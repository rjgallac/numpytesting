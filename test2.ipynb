import numpy as np

a=np.array(4)
print(a)